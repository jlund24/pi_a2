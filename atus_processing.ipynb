{
 "cells": [
  {
   "cell_type": "code",
   "execution_count": 8,
   "id": "crucial-shock",
   "metadata": {
    "pycharm": {
     "is_executing": false
    }
   },
   "outputs": [],
   "source": [
    "import pandas\n",
    "\n",
    "'''\n",
    "Read in segment data\n",
    "Group by time segment\n",
    "Calculate 2 most common activities\n",
    "\n",
    "Make new dataframe\n",
    "Columns: Type (atus_1/2, me_1/2), Segment ID, Segment Name (\"12:00 AM\"), Activity Code, Activity Name, Entry Count\n",
    "\n",
    "'''\n",
    "segment_data = pandas.read_csv(\"segmented_data.csv\", header=0)\n",
    "time_segment_list = {0: '00:00:00',1: '00:15:00',2: '00:30:00',3: '00:45:00',4: '01:00:00',5: '01:15:00',6: '01:30:00',7: '01:45:00',8: '02:00:00',9: '02:15:00',10: '02:30:00',11: '02:45:00',12: '03:00:00',13: '03:15:00',14: '03:30:00',15: '03:45:00',16: '04:00:00',17: '04:15:00',18: '04:30:00',19: '04:45:00',20: '05:00:00',21: '05:15:00',22: '05:30:00',23: '05:45:00',24: '06:00:00',25: '06:15:00',26: '06:30:00',27: '06:45:00',28: '07:00:00',29: '07:15:00',30: '07:30:00',31: '07:45:00',32: '08:00:00',33: '08:15:00',34: '08:30:00',35: '08:45:00',36: '09:00:00',37: '09:15:00',38: '09:30:00',39: '09:45:00',40: '10:00:00',41: '10:15:00',42: '10:30:00',43: '10:45:00',44: '11:00:00',45: '11:15:00',46: '11:30:00',47: '11:45:00',48: '12:00:00',49: '12:15:00',50: '12:30:00',51: '12:45:00',52: '13:00:00',53: '13:15:00',54: '13:30:00',55: '13:45:00',56: '14:00:00',57: '14:15:00',58: '14:30:00',59: '14:45:00',60: '15:00:00',61: '15:15:00',62: '15:30:00',63: '15:45:00',64: '16:00:00',65: '16:15:00',66: '16:30:00',67: '16:45:00',68: '17:00:00',69: '17:15:00',70: '17:30:00',71: '17:45:00',72: '18:00:00',73: '18:15:00',74: '18:30:00',75: '18:45:00',76: '19:00:00',77: '19:15:00',78: '19:30:00',79: '19:45:00',80: '20:00:00',81: '20:15:00',82: '20:30:00',83: '20:45:00',84: '21:00:00',85: '21:15:00',86: '21:30:00',87: '21:45:00',88: '22:00:00',89: '22:15:00',90: '22:30:00',91: '22:45:00',92: '23:00:00',93: '23:15:00',94: '23:30:00',95: '23:45:00'}\n",
    "activity_code_to_name = {\"01\": \"personal care\", \"02\": \"household activities\", \"03\": \"caring for household members\", \"04\": \"caring for nonhousehold members\", \"05\": \"work & work related activities\", \"06\": \"education\", \"07\": \"consumer purchases\", \"08\": \"professional & personal care services\", \"09\": \"household services\", \"10\": \"government services & civic obligations\", \"11\": \"eating and drinking\", \"12\": \"socializing, relaxing, and leisure\", \"13\": \"sports, exercise, and recreation\", \"14\": \"religious and spiritual activities\", \"15\": \"volunteer activities\", \"16\": \"telephone calls\", \"18\": \"traveling\", \"50\": \"no response\"}"
   ]
  },
  {
   "cell_type": "code",
   "execution_count": 3,
   "id": "outstanding-thickness",
   "metadata": {
    "pycharm": {
     "is_executing": false
    }
   },
   "outputs": [
    {
     "name": "stdout",
     "output_type": "stream",
     "text": [
      "        Unnamed: 0  Segment ID  Activity Code\n",
      "0                0          16              1\n",
      "1                1          17              1\n",
      "2                2          18              1\n",
      "3                3          19              1\n",
      "4                4          20              1\n",
      "...            ...         ...            ...\n",
      "744531      744531          44              5\n",
      "744532      744532          45              5\n",
      "744533      744533          46              5\n",
      "744534      744534          48             11\n",
      "744535      744535          49             11\n",
      "\n",
      "[744536 rows x 3 columns]\n"
     ]
    }
   ],
   "source": [
    "print(segment_data)"
   ]
  },
  {
   "cell_type": "code",
   "execution_count": 20,
   "id": "sapphire-mailman",
   "metadata": {
    "pycharm": {
     "is_executing": false
    }
   },
   "outputs": [],
   "source": [
    "grouped = segment_data.groupby(\"Segment ID\")"
   ]
  },
  {
   "cell_type": "code",
   "execution_count": 51,
   "id": "italic-milan",
   "metadata": {
    "pycharm": {
     "is_executing": false
    }
   },
   "outputs": [],
   "source": [
    "frequency_df = pandas.DataFrame(columns=('Type', 'Segment ID', 'Segment Name', 'Activity Code', 'Activity Name', 'Entry Count', 'Activity Count'))\n",
    "# frequency_df = pandas.read_csv(\"combined_frequency.csv\", header=0)"
   ]
  },
  {
   "cell_type": "code",
   "execution_count": 52,
   "id": "welcome-expense",
   "metadata": {
    "pycharm": {
     "is_executing": false
    }
   },
   "outputs": [
    {
     "name": "stdout",
     "output_type": "stream",
     "text": [
      "      Type Segment ID Segment Name Activity Code  Activity Name  Entry Count  \\\n",
      "0     ATUS          0     00:00:00             1  personal care     0.895048   \n",
      "1     ATUS          0     00:00:00             1  personal care     0.895048   \n",
      "2     ATUS          0     00:00:00             1  personal care     0.895048   \n",
      "3     ATUS          0     00:00:00             1  personal care     0.895048   \n",
      "4     ATUS          0     00:00:00             1  personal care     0.895048   \n",
      "...    ...        ...          ...           ...            ...          ...   \n",
      "1597  ATUS         95     23:45:00             1  personal care     0.891675   \n",
      "1598  ATUS         95     23:45:00             1  personal care     0.891675   \n",
      "1599  ATUS         95     23:45:00             1  personal care     0.891675   \n",
      "1600  ATUS         95     23:45:00             1  personal care     0.891675   \n",
      "1601  ATUS         95     23:45:00             1  personal care     0.891675   \n",
      "\n",
      "     Activity Count                                   Code     Count  \n",
      "0                16                          personal care  0.895048  \n",
      "1                16     socializing, relaxing, and leisure  0.067385  \n",
      "2                16         work & work related activities  0.013004  \n",
      "3                16                              traveling  0.006830  \n",
      "4                16                   household activities  0.004597  \n",
      "...             ...                                    ...       ...  \n",
      "1597             16       sports, exercise, and recreation  0.000704  \n",
      "1598             16     religious and spiritual activities  0.000423  \n",
      "1599             16                   volunteer activities  0.000423  \n",
      "1600             16  professional & personal care services  0.000141  \n",
      "1601             16                     consumer purchases  0.000141  \n",
      "\n",
      "[1602 rows x 9 columns]\n"
     ]
    }
   ],
   "source": [
    "for name, group in grouped:\n",
    "#     print(name)\n",
    "    group_freq_values = group[\"Activity Code\"].value_counts(sort=True, ascending=False, normalize=True)\n",
    "#     print(group_freq_values)\n",
    "    most_common_count = group_freq_values.iloc[0]\n",
    "    most_common_activity = group_freq_values.index[0]\n",
    "    second_common_count = group_freq_values.iloc[1]\n",
    "    second_common_activity = group_freq_values.index[1]\n",
    "#     print(most_common)\n",
    "#     print(second_common)\n",
    "#     print(most_common_activity)\n",
    "#     print(second_common_activity)\n",
    "#     print(group_freq_values.to_dict())\n",
    "    freq_dict = group_freq_values.to_dict()\n",
    "    for code, count in freq_dict.items():\n",
    "        frequency_df = frequency_df.append(pandas.Series({\"Type\": \"ATUS\", \"Segment ID\": name, \"Segment Name\": time_segment_list[name],\n",
    "                                                     \"Activity Code\": most_common_activity, \"Activity Name\": activity_code_to_name[str(most_common_activity).zfill(2)],\n",
    "                                                     \"Entry Count\": most_common_count, \"Activity Count\": len(list(freq_dict)), \"Code\": activity_code_to_name[str(code).zfill(2)], \"Count\": count}), ignore_index=True)\n",
    "#     frequency_df = frequency_df.append(pandas.Series({\"Type\": \"ATUS 2\", \"Segment ID\": name, \"Segment Name\": time_segment_list[name],\n",
    "#                                                      \"Activity Code\": second_common_activity, \"Activity Name\": activity_code_to_name[str(second_common_activity).zfill(2)],\n",
    "#                                                      \"Entry Count\": second_common_count}), ignore_index=True)\n",
    "\n",
    "#     break\n",
    "print(frequency_df)"
   ]
  },
  {
   "cell_type": "code",
   "execution_count": 53,
   "id": "described-silence",
   "metadata": {
    "pycharm": {
     "is_executing": false
    }
   },
   "outputs": [],
   "source": [
    "frequency_df.to_csv(\"combined_frequency_1.csv\")"
   ]
  },
  {
   "cell_type": "code",
   "execution_count": 7,
   "id": "damaged-robert",
   "metadata": {
    "pycharm": {
     "is_executing": false
    }
   },
   "outputs": [],
   "source": []
  }
 ],
 "metadata": {
  "kernelspec": {
   "display_name": "Python 3",
   "language": "python",
   "name": "python3"
  },
  "language_info": {
   "codemirror_mode": {
    "name": "ipython",
    "version": 3
   },
   "file_extension": ".py",
   "mimetype": "text/x-python",
   "name": "python",
   "nbconvert_exporter": "python",
   "pygments_lexer": "ipython3",
   "version": "3.8.3"
  }
 },
 "nbformat": 4,
 "nbformat_minor": 5
}
