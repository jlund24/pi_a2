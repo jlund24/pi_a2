{
 "cells": [
  {
   "cell_type": "code",
   "execution_count": 3,
   "metadata": {
    "pycharm": {
     "is_executing": false
    },
    "tags": []
   },
   "outputs": [],
   "source": [
    "import pandas\n",
    "\n",
    "'''\n",
    "Read in segment data\n",
    "Group by time segment\n",
    "Calculate 2 most common activities\n",
    "\n",
    "Make new dataframe\n",
    "Columns: Type (atus_1/2, me_1/2), Segment ID, Segment Name (\"12:00 AM\"), Activity Code, Activity Name, Entry Count\n",
    "\n",
    "'''\n",
    "toggl_segment_data = pandas.read_csv(\"toggle_segmented_data.csv\", header=0)\n",
    "time_segment_list = {0: '00:00:00',1: '00:15:00',2: '00:30:00',3: '00:45:00',4: '01:00:00',5: '01:15:00',6: '01:30:00',7: '01:45:00',8: '02:00:00',9: '02:15:00',10: '02:30:00',11: '02:45:00',12: '03:00:00',13: '03:15:00',14: '03:30:00',15: '03:45:00',16: '04:00:00',17: '04:15:00',18: '04:30:00',19: '04:45:00',20: '05:00:00',21: '05:15:00',22: '05:30:00',23: '05:45:00',24: '06:00:00',25: '06:15:00',26: '06:30:00',27: '06:45:00',28: '07:00:00',29: '07:15:00',30: '07:30:00',31: '07:45:00',32: '08:00:00',33: '08:15:00',34: '08:30:00',35: '08:45:00',36: '09:00:00',37: '09:15:00',38: '09:30:00',39: '09:45:00',40: '10:00:00',41: '10:15:00',42: '10:30:00',43: '10:45:00',44: '11:00:00',45: '11:15:00',46: '11:30:00',47: '11:45:00',48: '12:00:00',49: '12:15:00',50: '12:30:00',51: '12:45:00',52: '13:00:00',53: '13:15:00',54: '13:30:00',55: '13:45:00',56: '14:00:00',57: '14:15:00',58: '14:30:00',59: '14:45:00',60: '15:00:00',61: '15:15:00',62: '15:30:00',63: '15:45:00',64: '16:00:00',65: '16:15:00',66: '16:30:00',67: '16:45:00',68: '17:00:00',69: '17:15:00',70: '17:30:00',71: '17:45:00',72: '18:00:00',73: '18:15:00',74: '18:30:00',75: '18:45:00',76: '19:00:00',77: '19:15:00',78: '19:30:00',79: '19:45:00',80: '20:00:00',81: '20:15:00',82: '20:30:00',83: '20:45:00',84: '21:00:00',85: '21:15:00',86: '21:30:00',87: '21:45:00',88: '22:00:00',89: '22:15:00',90: '22:30:00',91: '22:45:00',92: '23:00:00',93: '23:15:00',94: '23:30:00',95: '23:45:00'}\n",
    "activity_code_to_name = {\"01\": \"personal care\", \"02\": \"household activities\", \"03\": \"caring for household members\", \"04\": \"caring for nonhousehold members\", \"05\": \"work & work related activities\", \"06\": \"education\", \"07\": \"consumer purchases\", \"08\": \"professional & personal care services\", \"09\": \"household services\", \"10\": \"government services & civic obligations\", \"11\": \"eating and drinking\", \"12\": \"socializing, relaxing, and leisure\", \"13\": \"sports, exercise, and recreation\", \"14\": \"religious and spiritual activities\", \"15\": \"volunteer activities\", \"16\": \"telephone calls\", \"18\": \"traveling\", \"50\": \"no response\"}"
   ]
  },
  {
   "cell_type": "code",
   "execution_count": 4,
   "metadata": {
    "collapsed": false,
    "jupyter": {
     "outputs_hidden": false
    },
    "pycharm": {
     "is_executing": false,
     "name": "#%%\n"
    }
   },
   "outputs": [
    {
     "name": "stdout",
     "output_type": "stream",
     "text": [
      "      Unnamed: 0  Segment ID  Activity Code        Description DayOfWeek  \\\n",
      "0              0          44              5  committee meeting    Friday   \n",
      "1              1          45              5  committee meeting    Friday   \n",
      "2              2          46              5  committee meeting    Friday   \n",
      "3              3          47              5  committee meeting    Friday   \n",
      "4              4          48              5  committee meeting    Friday   \n",
      "...          ...         ...            ...                ...       ...   \n",
      "1414        1414          22              1              Sleep    Sunday   \n",
      "1415        1415          23              1              Sleep    Sunday   \n",
      "1416        1416          24              1              Sleep    Sunday   \n",
      "1417        1417          25              1              Sleep    Sunday   \n",
      "1418        1418          26              1              Sleep    Sunday   \n",
      "\n",
      "      DayType  \n",
      "0     Workday  \n",
      "1     Workday  \n",
      "2     Workday  \n",
      "3     Workday  \n",
      "4     Workday  \n",
      "...       ...  \n",
      "1414  Weekend  \n",
      "1415  Weekend  \n",
      "1416  Weekend  \n",
      "1417  Weekend  \n",
      "1418  Weekend  \n",
      "\n",
      "[1419 rows x 6 columns]\n"
     ]
    }
   ],
   "source": [
    "print(toggl_segment_data)"
   ]
  },
  {
   "cell_type": "code",
   "execution_count": 48,
   "metadata": {
    "collapsed": false,
    "jupyter": {
     "outputs_hidden": false
    },
    "pycharm": {
     "is_executing": false,
     "name": "#%%\n"
    }
   },
   "outputs": [],
   "source": [
    "grouped = toggl_segment_data.groupby(\"Segment ID\")"
   ]
  },
  {
   "cell_type": "code",
   "execution_count": 49,
   "metadata": {
    "collapsed": false,
    "jupyter": {
     "outputs_hidden": false
    },
    "pycharm": {
     "is_executing": false,
     "name": "#%%\n"
    }
   },
   "outputs": [],
   "source": [
    "\n",
    "frequency_df = pandas.DataFrame(columns=('Type', 'Segment ID', 'Segment Name', 'Activity Code', 'Activity Name', 'Entry Count'))"
   ]
  },
  {
   "cell_type": "code",
   "execution_count": 50,
   "metadata": {
    "collapsed": false,
    "jupyter": {
     "outputs_hidden": false
    },
    "pycharm": {
     "is_executing": false,
     "name": "#%%\n"
    }
   },
   "outputs": [
    {
     "name": "stdout",
     "output_type": "stream",
     "text": [
      "             Type Segment ID Segment Name Activity Code  Activity Name  \\\n",
      "0   Me - Combined          0     00:00:00             1  personal care   \n",
      "1   Me - Combined          1     00:15:00             1  personal care   \n",
      "2   Me - Combined          2     00:30:00             1  personal care   \n",
      "3   Me - Combined          3     00:45:00             1  personal care   \n",
      "4   Me - Combined          4     01:00:00             1  personal care   \n",
      "..            ...        ...          ...           ...            ...   \n",
      "91  Me - Combined         91     22:45:00             1  personal care   \n",
      "92  Me - Combined         92     23:00:00             1  personal care   \n",
      "93  Me - Combined         93     23:15:00             1  personal care   \n",
      "94  Me - Combined         94     23:30:00             1  personal care   \n",
      "95  Me - Combined         95     23:45:00             1  personal care   \n",
      "\n",
      "    Entry Count  \n",
      "0           1.0  \n",
      "1           1.0  \n",
      "2           1.0  \n",
      "3           1.0  \n",
      "4           1.0  \n",
      "..          ...  \n",
      "91          1.0  \n",
      "92          1.0  \n",
      "93          1.0  \n",
      "94          1.0  \n",
      "95          1.0  \n",
      "\n",
      "[96 rows x 6 columns]\n"
     ]
    }
   ],
   "source": [
    "for name, group in grouped:\n",
    "    # print(name)\n",
    "    group_freq_values = group[\"Activity Code\"].value_counts(sort=True, ascending=False, dropna=False, normalize=True)\n",
    "    # print(group_freq_values)\n",
    "    most_common_count = group_freq_values.iloc[0]\n",
    "    most_common_activity = group_freq_values.index[0]\n",
    "    # print(len(group_freq_values))\n",
    "    \n",
    "    if len(group_freq_values) == 1:\n",
    "        second_common_count = group_freq_values.iloc[0]\n",
    "        second_common_activity = group_freq_values.index[0]\n",
    "    else:\n",
    "        second_common_count = group_freq_values.iloc[1]\n",
    "        second_common_activity = group_freq_values.index[1]\n",
    "    \n",
    "#     print(most_common_count)\n",
    "#     print(second_common_count)\n",
    "#     print(most_common_activity)\n",
    "#     print(second_common_activity)\n",
    "    frequency_df = frequency_df.append(pandas.Series({\"Type\": \"Me - Combined\", \"Segment ID\": name, \"Segment Name\": time_segment_list[name],\n",
    "                                                     \"Activity Code\": most_common_activity, \"Activity Name\": activity_code_to_name[str(most_common_activity).zfill(2)],\n",
    "                                                     \"Entry Count\": most_common_count}), ignore_index=True)\n",
    "#     frequency_df = frequency_df.append(pandas.Series({\"Type\": \"Me - Full - 2\", \"Segment ID\": name, \"Segment Name\": time_segment_list[name],\n",
    "#                                                      \"Activity Code\": second_common_activity, \"Activity Name\": activity_code_to_name[str(second_common_activity).zfill(2)],\n",
    "#                                                      \"Entry Count\": second_common_count}), ignore_index=True)\n",
    "\n",
    "#     break\n",
    "print(frequency_df)"
   ]
  },
  {
   "cell_type": "code",
   "execution_count": 51,
   "metadata": {},
   "outputs": [
    {
     "name": "stdout",
     "output_type": "stream",
     "text": [
      "Seg Id: 0 | DayType: Weekend\n",
      "Seg Id: 0 | DayType: Workday\n",
      "Seg Id: 1 | DayType: Weekend\n",
      "Seg Id: 1 | DayType: Workday\n",
      "Seg Id: 2 | DayType: Weekend\n",
      "Seg Id: 2 | DayType: Workday\n",
      "Seg Id: 3 | DayType: Weekend\n",
      "Seg Id: 3 | DayType: Workday\n",
      "Seg Id: 4 | DayType: Weekend\n",
      "Seg Id: 4 | DayType: Workday\n",
      "Seg Id: 5 | DayType: Weekend\n",
      "Seg Id: 5 | DayType: Workday\n",
      "Seg Id: 6 | DayType: Weekend\n",
      "Seg Id: 6 | DayType: Workday\n",
      "Seg Id: 7 | DayType: Weekend\n",
      "Seg Id: 7 | DayType: Workday\n",
      "Seg Id: 8 | DayType: Weekend\n",
      "Seg Id: 8 | DayType: Workday\n",
      "Seg Id: 9 | DayType: Weekend\n",
      "Seg Id: 9 | DayType: Workday\n",
      "Seg Id: 10 | DayType: Weekend\n",
      "Seg Id: 10 | DayType: Workday\n",
      "Seg Id: 11 | DayType: Weekend\n",
      "Seg Id: 11 | DayType: Workday\n",
      "Seg Id: 12 | DayType: Weekend\n",
      "Seg Id: 12 | DayType: Workday\n",
      "Seg Id: 13 | DayType: Weekend\n",
      "Seg Id: 13 | DayType: Workday\n",
      "Seg Id: 14 | DayType: Weekend\n",
      "Seg Id: 14 | DayType: Workday\n",
      "Seg Id: 15 | DayType: Weekend\n",
      "Seg Id: 15 | DayType: Workday\n",
      "Seg Id: 16 | DayType: Weekend\n",
      "Seg Id: 16 | DayType: Workday\n",
      "Seg Id: 17 | DayType: Weekend\n",
      "Seg Id: 17 | DayType: Workday\n",
      "Seg Id: 18 | DayType: Weekend\n",
      "Seg Id: 18 | DayType: Workday\n",
      "Seg Id: 19 | DayType: Weekend\n",
      "Seg Id: 19 | DayType: Workday\n",
      "Seg Id: 20 | DayType: Weekend\n",
      "Seg Id: 20 | DayType: Workday\n",
      "Seg Id: 21 | DayType: Weekend\n",
      "Seg Id: 21 | DayType: Workday\n",
      "Seg Id: 22 | DayType: Weekend\n",
      "Seg Id: 22 | DayType: Workday\n",
      "Seg Id: 23 | DayType: Weekend\n",
      "Seg Id: 23 | DayType: Workday\n",
      "Seg Id: 24 | DayType: Weekend\n",
      "Seg Id: 24 | DayType: Workday\n",
      "Seg Id: 25 | DayType: Weekend\n",
      "Seg Id: 25 | DayType: Workday\n",
      "Seg Id: 26 | DayType: Weekend\n",
      "Seg Id: 26 | DayType: Workday\n",
      "Seg Id: 27 | DayType: Weekend\n",
      "Seg Id: 27 | DayType: Workday\n",
      "Seg Id: 28 | DayType: Weekend\n",
      "Seg Id: 28 | DayType: Workday\n",
      "Seg Id: 29 | DayType: Weekend\n",
      "Seg Id: 29 | DayType: Workday\n",
      "Seg Id: 30 | DayType: Weekend\n",
      "Seg Id: 30 | DayType: Workday\n",
      "Seg Id: 31 | DayType: Weekend\n",
      "Seg Id: 31 | DayType: Workday\n",
      "Seg Id: 32 | DayType: Weekend\n",
      "Seg Id: 32 | DayType: Workday\n",
      "Seg Id: 33 | DayType: Weekend\n",
      "Seg Id: 33 | DayType: Workday\n",
      "Seg Id: 34 | DayType: Weekend\n",
      "Seg Id: 34 | DayType: Workday\n",
      "Seg Id: 35 | DayType: Weekend\n",
      "Seg Id: 35 | DayType: Workday\n",
      "Seg Id: 36 | DayType: Weekend\n",
      "Seg Id: 36 | DayType: Workday\n",
      "Seg Id: 37 | DayType: Weekend\n",
      "Seg Id: 37 | DayType: Workday\n",
      "Seg Id: 38 | DayType: Weekend\n",
      "Seg Id: 38 | DayType: Workday\n",
      "Seg Id: 39 | DayType: Weekend\n",
      "Seg Id: 39 | DayType: Workday\n",
      "Seg Id: 40 | DayType: Weekend\n",
      "Seg Id: 40 | DayType: Workday\n",
      "Seg Id: 41 | DayType: Weekend\n",
      "Seg Id: 41 | DayType: Workday\n",
      "Seg Id: 42 | DayType: Weekend\n",
      "Seg Id: 42 | DayType: Workday\n",
      "Seg Id: 43 | DayType: Weekend\n",
      "Seg Id: 43 | DayType: Workday\n",
      "Seg Id: 44 | DayType: Weekend\n",
      "Seg Id: 44 | DayType: Workday\n",
      "Seg Id: 45 | DayType: Weekend\n",
      "Seg Id: 45 | DayType: Workday\n",
      "Seg Id: 46 | DayType: Weekend\n",
      "Seg Id: 46 | DayType: Workday\n",
      "Seg Id: 47 | DayType: Weekend\n",
      "Seg Id: 47 | DayType: Workday\n",
      "Seg Id: 48 | DayType: Weekend\n",
      "Seg Id: 48 | DayType: Workday\n",
      "Seg Id: 49 | DayType: Weekend\n",
      "Seg Id: 49 | DayType: Workday\n",
      "Seg Id: 50 | DayType: Weekend\n",
      "Seg Id: 50 | DayType: Workday\n",
      "Seg Id: 51 | DayType: Weekend\n",
      "Seg Id: 51 | DayType: Workday\n",
      "Seg Id: 52 | DayType: Weekend\n",
      "Seg Id: 52 | DayType: Workday\n",
      "Seg Id: 53 | DayType: Weekend\n",
      "Seg Id: 53 | DayType: Workday\n",
      "Seg Id: 54 | DayType: Weekend\n",
      "Seg Id: 54 | DayType: Workday\n",
      "Seg Id: 55 | DayType: Weekend\n",
      "Seg Id: 55 | DayType: Workday\n",
      "Seg Id: 56 | DayType: Weekend\n",
      "Seg Id: 56 | DayType: Workday\n",
      "Seg Id: 57 | DayType: Weekend\n",
      "Seg Id: 57 | DayType: Workday\n",
      "Seg Id: 58 | DayType: Weekend\n",
      "Seg Id: 58 | DayType: Workday\n",
      "Seg Id: 59 | DayType: Weekend\n",
      "Seg Id: 59 | DayType: Workday\n",
      "Seg Id: 60 | DayType: Weekend\n",
      "Seg Id: 60 | DayType: Workday\n",
      "Seg Id: 61 | DayType: Weekend\n",
      "Seg Id: 61 | DayType: Workday\n",
      "Seg Id: 62 | DayType: Weekend\n",
      "Seg Id: 62 | DayType: Workday\n",
      "Seg Id: 63 | DayType: Weekend\n",
      "Seg Id: 63 | DayType: Workday\n",
      "Seg Id: 64 | DayType: Weekend\n",
      "Seg Id: 64 | DayType: Workday\n",
      "Seg Id: 65 | DayType: Weekend\n",
      "Seg Id: 65 | DayType: Workday\n",
      "Seg Id: 66 | DayType: Weekend\n",
      "Seg Id: 66 | DayType: Workday\n",
      "Seg Id: 67 | DayType: Weekend\n",
      "Seg Id: 67 | DayType: Workday\n",
      "Seg Id: 68 | DayType: Weekend\n",
      "Seg Id: 68 | DayType: Workday\n",
      "Seg Id: 69 | DayType: Weekend\n",
      "Seg Id: 69 | DayType: Workday\n",
      "Seg Id: 70 | DayType: Weekend\n",
      "Seg Id: 70 | DayType: Workday\n",
      "Seg Id: 71 | DayType: Weekend\n",
      "Seg Id: 71 | DayType: Workday\n",
      "Seg Id: 72 | DayType: Weekend\n",
      "Seg Id: 72 | DayType: Workday\n",
      "Seg Id: 73 | DayType: Weekend\n",
      "Seg Id: 73 | DayType: Workday\n",
      "Seg Id: 74 | DayType: Weekend\n",
      "Seg Id: 74 | DayType: Workday\n",
      "Seg Id: 75 | DayType: Weekend\n",
      "Seg Id: 75 | DayType: Workday\n",
      "Seg Id: 76 | DayType: Weekend\n",
      "Seg Id: 76 | DayType: Workday\n",
      "Seg Id: 77 | DayType: Weekend\n",
      "Seg Id: 77 | DayType: Workday\n",
      "Seg Id: 78 | DayType: Weekend\n",
      "Seg Id: 78 | DayType: Workday\n",
      "Seg Id: 79 | DayType: Weekend\n",
      "Seg Id: 79 | DayType: Workday\n",
      "Seg Id: 80 | DayType: Weekend\n",
      "Seg Id: 80 | DayType: Workday\n",
      "Seg Id: 81 | DayType: Weekend\n",
      "Seg Id: 81 | DayType: Workday\n",
      "Seg Id: 82 | DayType: Weekend\n",
      "Seg Id: 82 | DayType: Workday\n",
      "Seg Id: 83 | DayType: Weekend\n",
      "Seg Id: 83 | DayType: Workday\n",
      "Seg Id: 84 | DayType: Weekend\n",
      "Seg Id: 84 | DayType: Workday\n",
      "Seg Id: 85 | DayType: Weekend\n",
      "Seg Id: 85 | DayType: Workday\n",
      "Seg Id: 86 | DayType: Weekend\n",
      "Seg Id: 86 | DayType: Workday\n",
      "Seg Id: 87 | DayType: Weekend\n",
      "Seg Id: 87 | DayType: Workday\n",
      "Seg Id: 88 | DayType: Weekend\n",
      "Seg Id: 88 | DayType: Workday\n",
      "Seg Id: 89 | DayType: Weekend\n",
      "Seg Id: 89 | DayType: Workday\n",
      "Seg Id: 90 | DayType: Weekend\n",
      "Seg Id: 90 | DayType: Workday\n",
      "Seg Id: 91 | DayType: Weekend\n",
      "Seg Id: 91 | DayType: Workday\n",
      "Seg Id: 92 | DayType: Weekend\n",
      "Seg Id: 92 | DayType: Workday\n",
      "Seg Id: 93 | DayType: Weekend\n",
      "Seg Id: 93 | DayType: Workday\n",
      "Seg Id: 94 | DayType: Weekend\n",
      "Seg Id: 94 | DayType: Workday\n",
      "Seg Id: 95 | DayType: Weekend\n",
      "Seg Id: 95 | DayType: Workday\n"
     ]
    }
   ],
   "source": [
    "day_type_grouped = toggl_segment_data.groupby([\"Segment ID\", \"DayType\"])\n",
    "\n",
    "for name, group in day_type_grouped:\n",
    "#     print(day_type_grouped.get_group(name), \"\\n\\n\")\n",
    "    print(\"Seg Id: {} | DayType: {}\".format(name[0], name[1]))\n",
    "    group_freq_values = group[\"Activity Code\"].value_counts(sort=True, ascending=False, dropna=False, normalize=True)\n",
    "    # print(group_freq_values)\n",
    "    most_common_count = group_freq_values.iloc[0]\n",
    "    most_common_activity = group_freq_values.index[0]\n",
    "    # print(len(group_freq_values))\n",
    "#     print(most_common_count)\n",
    "#     print(most_common_activity)\n",
    "    \n",
    "    if len(group_freq_values) == 1:\n",
    "        second_common_count = group_freq_values.iloc[0]\n",
    "        second_common_activity = group_freq_values.index[0]\n",
    "    else:\n",
    "        second_common_count = group_freq_values.iloc[1]\n",
    "        second_common_activity = group_freq_values.index[1]\n",
    "        \n",
    "#     print(second_common_count)\n",
    "#     print(second_common_activity)\n",
    "    \n",
    "    frequency_df = frequency_df.append(pandas.Series({\"Type\": \"Me - {}\".format(name[1]), \"Segment ID\": name[0], \"Segment Name\": time_segment_list[name[0]],\n",
    "                                                     \"Activity Code\": most_common_activity, \"Activity Name\": activity_code_to_name[str(most_common_activity).zfill(2)],\n",
    "                                                     \"Entry Count\": most_common_count}), ignore_index=True)\n",
    "#     frequency_df = frequency_df.append(pandas.Series({\"Type\": \"Me - {} - 2\".format(name[1]), \"Segment ID\": name[0], \"Segment Name\": time_segment_list[name[0]],\n",
    "#                                                      \"Activity Code\": second_common_activity, \"Activity Name\": activity_code_to_name[str(second_common_activity).zfill(2)],\n",
    "#                                                      \"Entry Count\": second_common_count}), ignore_index=True)\n",
    "\n",
    "    "
   ]
  },
  {
   "cell_type": "code",
   "execution_count": 52,
   "metadata": {},
   "outputs": [],
   "source": [
    "weekday_grouped = toggl_segment_data.groupby([\"Segment ID\", \"DayOfWeek\"])\n",
    "\n",
    "for name, group in weekday_grouped:\n",
    "#     print(day_type_grouped.get_group(name), \"\\n\\n\")\n",
    "#     print(\"Seg Id: {} | DayType: {}\".format(name[0], name[1]))\n",
    "    group_freq_values = group[\"Activity Code\"].value_counts(sort=True, ascending=False, dropna=False, normalize=True)\n",
    "    # print(group_freq_values)\n",
    "    most_common_count = group_freq_values.iloc[0]\n",
    "    most_common_activity = group_freq_values.index[0]\n",
    "    # print(len(group_freq_values))\n",
    "#     print(most_common_count)\n",
    "#     print(most_common_activity)\n",
    "    \n",
    "    if len(group_freq_values) == 1:\n",
    "        second_common_count = group_freq_values.iloc[0]\n",
    "        second_common_activity = group_freq_values.index[0]\n",
    "    else:\n",
    "        second_common_count = group_freq_values.iloc[1]\n",
    "        second_common_activity = group_freq_values.index[1]\n",
    "        \n",
    "#     print(second_common_count)\n",
    "#     print(second_common_activity)\n",
    "    \n",
    "    frequency_df = frequency_df.append(pandas.Series({\"Type\": \"Me - {}\".format(name[1]), \"Segment ID\": name[0], \"Segment Name\": time_segment_list[name[0]],\n",
    "                                                     \"Activity Code\": most_common_activity, \"Activity Name\": activity_code_to_name[str(most_common_activity).zfill(2)],\n",
    "                                                     \"Entry Count\": most_common_count}), ignore_index=True)\n",
    "#     frequency_df = frequency_df.append(pandas.Series({\"Type\": \"Me - {} - 2\".format(name[1]), \"Segment ID\": name[0], \"Segment Name\": time_segment_list[name[0]],\n",
    "#                                                      \"Activity Code\": second_common_activity, \"Activity Name\": activity_code_to_name[str(second_common_activity).zfill(2)],\n",
    "#                                                      \"Entry Count\": second_common_count}), ignore_index=True)"
   ]
  },
  {
   "cell_type": "code",
   "execution_count": 46,
   "metadata": {},
   "outputs": [
    {
     "name": "stdout",
     "output_type": "stream",
     "text": [
      "              Type Segment ID Segment Name Activity Code  Activity Name  \\\n",
      "0      Me - Friday          0     00:00:00             1  personal care   \n",
      "1      Me - Monday          0     00:00:00             1  personal care   \n",
      "2    Me - Saturday          0     00:00:00             1  personal care   \n",
      "3      Me - Sunday          0     00:00:00             1  personal care   \n",
      "4    Me - Thursday          0     00:00:00             1  personal care   \n",
      "5     Me - Tuesday          0     00:00:00             1  personal care   \n",
      "6   Me - Wednesday          0     00:00:00             1  personal care   \n",
      "7      Me - Friday          1     00:15:00             1  personal care   \n",
      "8      Me - Monday          1     00:15:00             1  personal care   \n",
      "9    Me - Saturday          1     00:15:00             1  personal care   \n",
      "10     Me - Sunday          1     00:15:00             1  personal care   \n",
      "11   Me - Thursday          1     00:15:00             1  personal care   \n",
      "12    Me - Tuesday          1     00:15:00             1  personal care   \n",
      "13  Me - Wednesday          1     00:15:00             1  personal care   \n",
      "14     Me - Friday          2     00:30:00             1  personal care   \n",
      "15     Me - Monday          2     00:30:00             1  personal care   \n",
      "16   Me - Saturday          2     00:30:00             1  personal care   \n",
      "17     Me - Sunday          2     00:30:00             1  personal care   \n",
      "18   Me - Thursday          2     00:30:00             1  personal care   \n",
      "19    Me - Tuesday          2     00:30:00             1  personal care   \n",
      "\n",
      "    Entry Count  \n",
      "0           1.0  \n",
      "1           1.0  \n",
      "2           1.0  \n",
      "3           1.0  \n",
      "4           1.0  \n",
      "5           1.0  \n",
      "6           1.0  \n",
      "7           1.0  \n",
      "8           1.0  \n",
      "9           1.0  \n",
      "10          1.0  \n",
      "11          1.0  \n",
      "12          1.0  \n",
      "13          1.0  \n",
      "14          1.0  \n",
      "15          1.0  \n",
      "16          1.0  \n",
      "17          1.0  \n",
      "18          1.0  \n",
      "19          1.0  \n"
     ]
    }
   ],
   "source": [
    "print(frequency_df.head(20))"
   ]
  },
  {
   "cell_type": "code",
   "execution_count": 53,
   "metadata": {
    "collapsed": false,
    "jupyter": {
     "outputs_hidden": false
    },
    "pycharm": {
     "is_executing": false,
     "name": "#%%\n"
    }
   },
   "outputs": [],
   "source": [
    "frequency_df.to_csv(\"combined_frequency.csv\")"
   ]
  },
  {
   "cell_type": "code",
   "execution_count": null,
   "metadata": {
    "collapsed": false,
    "jupyter": {
     "outputs_hidden": false
    },
    "pycharm": {
     "is_executing": false,
     "name": "#%%\n"
    }
   },
   "outputs": [],
   "source": [
    "\n",
    "\n"
   ]
  }
 ],
 "metadata": {
  "kernelspec": {
   "display_name": "Python 3",
   "language": "python",
   "name": "python3"
  },
  "language_info": {
   "codemirror_mode": {
    "name": "ipython",
    "version": 3
   },
   "file_extension": ".py",
   "mimetype": "text/x-python",
   "name": "python",
   "nbconvert_exporter": "python",
   "pygments_lexer": "ipython3",
   "version": "3.8.3"
  },
  "pycharm": {
   "stem_cell": {
    "cell_type": "raw",
    "metadata": {
     "collapsed": false
    },
    "source": []
   }
  }
 },
 "nbformat": 4,
 "nbformat_minor": 4
}
